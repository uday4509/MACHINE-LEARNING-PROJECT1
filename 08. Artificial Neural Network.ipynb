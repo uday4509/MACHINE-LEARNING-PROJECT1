{
 "cells": [
  {
   "cell_type": "markdown",
   "id": "3e95456a",
   "metadata": {
    "papermill": {
     "duration": 0.007507,
     "end_time": "2024-11-25T15:06:34.587029",
     "exception": false,
     "start_time": "2024-11-25T15:06:34.579522",
     "status": "completed"
    },
    "tags": []
   },
   "source": [
    "# Build an Artificial Neural Network by implementing the Back-propagationalgorithm and test the same using appropriate data sets"
   ]
  },
  {
   "cell_type": "markdown",
   "id": "cec43aeb",
   "metadata": {
    "papermill": {
     "duration": 0.006296,
     "end_time": "2024-11-25T15:06:34.600799",
     "exception": false,
     "start_time": "2024-11-25T15:06:34.594503",
     "status": "completed"
    },
    "tags": []
   },
   "source": [
    "# Import all necessary librariess"
   ]
  },
  {
   "cell_type": "code",
   "execution_count": 1,
   "id": "adf9efbb",
   "metadata": {
    "_cell_guid": "b1076dfc-b9ad-4769-8c92-a6c4dae69d19",
    "_uuid": "8f2839f25d086af736a60e9eeb907d3b93b6e0e5",
    "execution": {
     "iopub.execute_input": "2024-11-25T15:06:34.616715Z",
     "iopub.status.busy": "2024-11-25T15:06:34.616029Z",
     "iopub.status.idle": "2024-11-25T15:06:34.627353Z",
     "shell.execute_reply": "2024-11-25T15:06:34.626112Z"
    },
    "papermill": {
     "duration": 0.022616,
     "end_time": "2024-11-25T15:06:34.630062",
     "exception": false,
     "start_time": "2024-11-25T15:06:34.607446",
     "status": "completed"
    },
    "tags": []
   },
   "outputs": [],
   "source": [
    "import random\n",
    "from math import exp\n",
    "from random import seed"
   ]
  },
  {
   "cell_type": "markdown",
   "id": "f34728a3",
   "metadata": {
    "papermill": {
     "duration": 0.00649,
     "end_time": "2024-11-25T15:06:34.643861",
     "exception": false,
     "start_time": "2024-11-25T15:06:34.637371",
     "status": "completed"
    },
    "tags": []
   },
   "source": [
    "# Initialize a networkk"
   ]
  },
  {
   "cell_type": "code",
   "execution_count": 2,
   "id": "5e19d655",
   "metadata": {
    "execution": {
     "iopub.execute_input": "2024-11-25T15:06:34.661496Z",
     "iopub.status.busy": "2024-11-25T15:06:34.660641Z",
     "iopub.status.idle": "2024-11-25T15:06:34.668877Z",
     "shell.execute_reply": "2024-11-25T15:06:34.667599Z"
    },
    "papermill": {
     "duration": 0.019141,
     "end_time": "2024-11-25T15:06:34.671233",
     "exception": false,
     "start_time": "2024-11-25T15:06:34.652092",
     "status": "completed"
    },
    "tags": []
   },
   "outputs": [],
   "source": [
    "def initialize_network(n_inputs, n_hidden, n_outputs):\n",
    "    network = list()\n",
    "    hidden_layer = [{'weights':[random.uniform(-0.5,0.5) for i in range(n_inputs + 1)]} for i in range(n_hidden)]\n",
    "    network.append(hidden_layer)\n",
    "    output_layer = [{'weights':[random.uniform(-0.5,0.5) for i in range(n_hidden + 1)]} for i in range(n_outputs)]\n",
    "    network.append(output_layer)\n",
    "    i= 1\n",
    "    print(\"\\n The initialised Neural Network:\\n\")\n",
    "    for layer in network:\n",
    "        j=1\n",
    "        for sub in layer:\n",
    "            print(\"\\n Layer[%d] Node[%d]:\\n\" %(i,j),sub)\n",
    "            j=j+1\n",
    "        i=i+1\n",
    "    return network"
   ]
  },
  {
   "cell_type": "markdown",
   "id": "bd15c95a",
   "metadata": {
    "papermill": {
     "duration": 0.006599,
     "end_time": "2024-11-25T15:06:34.684887",
     "exception": false,
     "start_time": "2024-11-25T15:06:34.678288",
     "status": "completed"
    },
    "tags": []
   },
   "source": [
    "# Calculate neuron activation (net) for an input"
   ]
  },
  {
   "cell_type": "code",
   "execution_count": 3,
   "id": "ff6f303b",
   "metadata": {
    "execution": {
     "iopub.execute_input": "2024-11-25T15:06:34.700488Z",
     "iopub.status.busy": "2024-11-25T15:06:34.699971Z",
     "iopub.status.idle": "2024-11-25T15:06:34.706940Z",
     "shell.execute_reply": "2024-11-25T15:06:34.705619Z"
    },
    "papermill": {
     "duration": 0.017464,
     "end_time": "2024-11-25T15:06:34.709335",
     "exception": false,
     "start_time": "2024-11-25T15:06:34.691871",
     "status": "completed"
    },
    "tags": []
   },
   "outputs": [],
   "source": [
    "def activate(weights, inputs):\n",
    "    activation = weights[-1]\n",
    "    for i in range(len(weights)-1):\n",
    "        activation += weights[i] * inputs[i]\n",
    "    return activation"
   ]
  },
  {
   "cell_type": "markdown",
   "id": "54d71dbf",
   "metadata": {
    "papermill": {
     "duration": 0.006405,
     "end_time": "2024-11-25T15:06:34.724518",
     "exception": false,
     "start_time": "2024-11-25T15:06:34.718113",
     "status": "completed"
    },
    "tags": []
   },
   "source": [
    "# Transfer neuron activation to sigmoid function"
   ]
  },
  {
   "cell_type": "code",
   "execution_count": 4,
   "id": "8dfb4bc6",
   "metadata": {
    "execution": {
     "iopub.execute_input": "2024-11-25T15:06:34.740732Z",
     "iopub.status.busy": "2024-11-25T15:06:34.740247Z",
     "iopub.status.idle": "2024-11-25T15:06:34.746448Z",
     "shell.execute_reply": "2024-11-25T15:06:34.744959Z"
    },
    "papermill": {
     "duration": 0.017777,
     "end_time": "2024-11-25T15:06:34.749105",
     "exception": false,
     "start_time": "2024-11-25T15:06:34.731328",
     "status": "completed"
    },
    "tags": []
   },
   "outputs": [],
   "source": [
    "def transfer(activation):\n",
    "    return 1.0 / (1.0 + exp(-activation))"
   ]
  },
  {
   "cell_type": "markdown",
   "id": "df3819a3",
   "metadata": {
    "papermill": {
     "duration": 0.0065,
     "end_time": "2024-11-25T15:06:34.762757",
     "exception": false,
     "start_time": "2024-11-25T15:06:34.756257",
     "status": "completed"
    },
    "tags": []
   },
   "source": [
    "# Forward propagate input to a network output"
   ]
  },
  {
   "cell_type": "code",
   "execution_count": 5,
   "id": "7274b198",
   "metadata": {
    "execution": {
     "iopub.execute_input": "2024-11-25T15:06:34.778341Z",
     "iopub.status.busy": "2024-11-25T15:06:34.777850Z",
     "iopub.status.idle": "2024-11-25T15:06:34.784979Z",
     "shell.execute_reply": "2024-11-25T15:06:34.783649Z"
    },
    "papermill": {
     "duration": 0.017819,
     "end_time": "2024-11-25T15:06:34.787322",
     "exception": false,
     "start_time": "2024-11-25T15:06:34.769503",
     "status": "completed"
    },
    "tags": []
   },
   "outputs": [],
   "source": [
    "def forward_propagate(network, row):\n",
    "    inputs = row\n",
    "    for layer in network:\n",
    "        new_inputs = []\n",
    "        for neuron in layer:\n",
    "            activation = activate(neuron['weights'], inputs)\n",
    "            neuron['output'] = transfer(activation)\n",
    "            new_inputs.append(neuron['output'])\n",
    "        inputs = new_inputs\n",
    "    return inputs"
   ]
  },
  {
   "cell_type": "markdown",
   "id": "55ab65d8",
   "metadata": {
    "papermill": {
     "duration": 0.00647,
     "end_time": "2024-11-25T15:06:34.800611",
     "exception": false,
     "start_time": "2024-11-25T15:06:34.794141",
     "status": "completed"
    },
    "tags": []
   },
   "source": [
    "# Calculate the derivative of an neuron output"
   ]
  },
  {
   "cell_type": "code",
   "execution_count": 6,
   "id": "7ab3a620",
   "metadata": {
    "execution": {
     "iopub.execute_input": "2024-11-25T15:06:34.816141Z",
     "iopub.status.busy": "2024-11-25T15:06:34.815533Z",
     "iopub.status.idle": "2024-11-25T15:06:34.821798Z",
     "shell.execute_reply": "2024-11-25T15:06:34.820377Z"
    },
    "papermill": {
     "duration": 0.017467,
     "end_time": "2024-11-25T15:06:34.824629",
     "exception": false,
     "start_time": "2024-11-25T15:06:34.807162",
     "status": "completed"
    },
    "tags": []
   },
   "outputs": [],
   "source": [
    "def transfer_derivative(output):\n",
    "    return output * (1.0 - output)"
   ]
  },
  {
   "cell_type": "markdown",
   "id": "193f976d",
   "metadata": {
    "papermill": {
     "duration": 0.006344,
     "end_time": "2024-11-25T15:06:34.837939",
     "exception": false,
     "start_time": "2024-11-25T15:06:34.831595",
     "status": "completed"
    },
    "tags": []
   },
   "source": [
    "# Backpropagate error and store in neurons"
   ]
  },
  {
   "cell_type": "code",
   "execution_count": 7,
   "id": "6e93e78f",
   "metadata": {
    "execution": {
     "iopub.execute_input": "2024-11-25T15:06:34.855414Z",
     "iopub.status.busy": "2024-11-25T15:06:34.854921Z",
     "iopub.status.idle": "2024-11-25T15:06:34.863673Z",
     "shell.execute_reply": "2024-11-25T15:06:34.862306Z"
    },
    "papermill": {
     "duration": 0.02126,
     "end_time": "2024-11-25T15:06:34.866188",
     "exception": false,
     "start_time": "2024-11-25T15:06:34.844928",
     "status": "completed"
    },
    "tags": []
   },
   "outputs": [],
   "source": [
    "def backward_propagate_error(network, expected):\n",
    "    for i in reversed(range(len(network))):\n",
    "        layer = network[i]\n",
    "        errors = list()\n",
    "        \n",
    "        if i != len(network)-1:\n",
    "            for j in range(len(layer)):\n",
    "                error = 0.0\n",
    "                for neuron in network[i + 1]:\n",
    "                    error += (neuron['weights'][j] * neuron['delta'])\n",
    "                errors.append(error)\n",
    "        else:\n",
    "            for j in range(len(layer)):\n",
    "                neuron = layer[j]\n",
    "                errors.append(expected[j] - neuron['output'])\n",
    "        \n",
    "        for j in range(len(layer)):\n",
    "            neuron = layer[j]\n",
    "            neuron['delta'] = errors[j] * transfer_derivative(neuron['output'])"
   ]
  },
  {
   "cell_type": "markdown",
   "id": "d25ca9d8",
   "metadata": {
    "papermill": {
     "duration": 0.006373,
     "end_time": "2024-11-25T15:06:34.879274",
     "exception": false,
     "start_time": "2024-11-25T15:06:34.872901",
     "status": "completed"
    },
    "tags": []
   },
   "source": [
    "# Update network weights with error"
   ]
  },
  {
   "cell_type": "code",
   "execution_count": 8,
   "id": "b237cbe1",
   "metadata": {
    "execution": {
     "iopub.execute_input": "2024-11-25T15:06:34.896176Z",
     "iopub.status.busy": "2024-11-25T15:06:34.895650Z",
     "iopub.status.idle": "2024-11-25T15:06:34.903251Z",
     "shell.execute_reply": "2024-11-25T15:06:34.901939Z"
    },
    "papermill": {
     "duration": 0.01897,
     "end_time": "2024-11-25T15:06:34.905695",
     "exception": false,
     "start_time": "2024-11-25T15:06:34.886725",
     "status": "completed"
    },
    "tags": []
   },
   "outputs": [],
   "source": [
    "def update_weights(network, row, l_rate):\n",
    "    for i in range(len(network)):\n",
    "        inputs = row[:-1]\n",
    "        if i != 0:\n",
    "            inputs = [neuron['output'] for neuron in network[i - 1]]\n",
    "        for neuron in network[i]:\n",
    "            for j in range(len(inputs)):\n",
    "                neuron['weights'][j] += l_rate * neuron['delta'] * inputs[j]\n",
    "            neuron['weights'][-1] += l_rate * neuron['delta']\n",
    " "
   ]
  },
  {
   "cell_type": "markdown",
   "id": "9ac5434c",
   "metadata": {
    "papermill": {
     "duration": 0.006457,
     "end_time": "2024-11-25T15:06:34.918694",
     "exception": false,
     "start_time": "2024-11-25T15:06:34.912237",
     "status": "completed"
    },
    "tags": []
   },
   "source": [
    "# Train a network for a fixed number of epochs"
   ]
  },
  {
   "cell_type": "code",
   "execution_count": 9,
   "id": "b60cc3b6",
   "metadata": {
    "execution": {
     "iopub.execute_input": "2024-11-25T15:06:34.934834Z",
     "iopub.status.busy": "2024-11-25T15:06:34.934301Z",
     "iopub.status.idle": "2024-11-25T15:06:34.942462Z",
     "shell.execute_reply": "2024-11-25T15:06:34.941208Z"
    },
    "papermill": {
     "duration": 0.019413,
     "end_time": "2024-11-25T15:06:34.944854",
     "exception": false,
     "start_time": "2024-11-25T15:06:34.925441",
     "status": "completed"
    },
    "tags": []
   },
   "outputs": [],
   "source": [
    "def train_network(network, train, l_rate, n_epoch, n_outputs):\n",
    "   \n",
    "    print(\"\\n Network Training Begins:\\n\")\n",
    "    \n",
    "    for epoch in range(n_epoch):\n",
    "        sum_error = 0\n",
    "        for row in train:\n",
    "            outputs = forward_propagate(network, row)\n",
    "            expected = [0 for i in range(n_outputs)]\n",
    "            expected[row[-1]] = 1\n",
    "            sum_error += sum([(expected[i]-outputs[i])**2 for i in range(len(expected))])\n",
    "            backward_propagate_error(network, expected)\n",
    "            update_weights(network, row, l_rate)\n",
    "        print('>epoch=%d, lrate=%.3f, error=%.3f' % (epoch, l_rate, sum_error))\n",
    "    \n",
    "    print(\"\\n Network Training Ends:\\n\")"
   ]
  },
  {
   "cell_type": "markdown",
   "id": "9e2b82c4",
   "metadata": {
    "papermill": {
     "duration": 0.006523,
     "end_time": "2024-11-25T15:06:34.958789",
     "exception": false,
     "start_time": "2024-11-25T15:06:34.952266",
     "status": "completed"
    },
    "tags": []
   },
   "source": [
    "# Test training backprop algorithm"
   ]
  },
  {
   "cell_type": "code",
   "execution_count": 10,
   "id": "df5fcddb",
   "metadata": {
    "execution": {
     "iopub.execute_input": "2024-11-25T15:06:34.974334Z",
     "iopub.status.busy": "2024-11-25T15:06:34.973819Z",
     "iopub.status.idle": "2024-11-25T15:06:34.982745Z",
     "shell.execute_reply": "2024-11-25T15:06:34.981517Z"
    },
    "papermill": {
     "duration": 0.019997,
     "end_time": "2024-11-25T15:06:34.985460",
     "exception": false,
     "start_time": "2024-11-25T15:06:34.965463",
     "status": "completed"
    },
    "tags": []
   },
   "outputs": [
    {
     "name": "stdout",
     "output_type": "stream",
     "text": [
      "\n",
      " The input Data Set :\n",
      " [[2.7810836, 2.550537003, 0], [1.465489372, 2.362125076, 0], [3.396561688, 4.400293529, 0], [1.38807019, 1.850220317, 0], [3.06407232, 3.005305973, 0], [7.627531214, 2.759262235, 1], [5.332441248, 2.088626775, 1], [6.922596716, 1.77106367, 1], [8.675418651, -0.242068655, 1], [7.673756466, 3.508563011, 1]]\n",
      "\n",
      " Number of Inputs :\n",
      " 2\n",
      "\n",
      " Number of Outputs :\n",
      " 2\n"
     ]
    }
   ],
   "source": [
    "seed(2) \n",
    "dataset = [[2.7810836,2.550537003,0],\n",
    "    [1.465489372,2.362125076,0],\n",
    "    [3.396561688,4.400293529,0],\n",
    "    [1.38807019,1.850220317,0],\n",
    "    [3.06407232,3.005305973,0],\n",
    "    [7.627531214,2.759262235,1],\n",
    "    [5.332441248,2.088626775,1],\n",
    "    [6.922596716,1.77106367,1],\n",
    "    [8.675418651,-0.242068655,1],\n",
    "    [7.673756466,3.508563011,1]]\n",
    "\n",
    "print(\"\\n The input Data Set :\\n\",dataset)\n",
    "n_inputs = len(dataset[0]) - 1\n",
    "print(\"\\n Number of Inputs :\\n\",n_inputs)\n",
    "n_outputs = len(set([row[-1] for row in dataset]))\n",
    "print(\"\\n Number of Outputs :\\n\",n_outputs)"
   ]
  },
  {
   "cell_type": "markdown",
   "id": "28031b42",
   "metadata": {
    "papermill": {
     "duration": 0.006483,
     "end_time": "2024-11-25T15:06:34.998723",
     "exception": false,
     "start_time": "2024-11-25T15:06:34.992240",
     "status": "completed"
    },
    "tags": []
   },
   "source": [
    "# Network Initialization"
   ]
  },
  {
   "cell_type": "code",
   "execution_count": 11,
   "id": "378fe6e7",
   "metadata": {
    "execution": {
     "iopub.execute_input": "2024-11-25T15:06:35.014994Z",
     "iopub.status.busy": "2024-11-25T15:06:35.013750Z",
     "iopub.status.idle": "2024-11-25T15:06:35.020525Z",
     "shell.execute_reply": "2024-11-25T15:06:35.019371Z"
    },
    "papermill": {
     "duration": 0.017504,
     "end_time": "2024-11-25T15:06:35.022943",
     "exception": false,
     "start_time": "2024-11-25T15:06:35.005439",
     "status": "completed"
    },
    "tags": []
   },
   "outputs": [
    {
     "name": "stdout",
     "output_type": "stream",
     "text": [
      "\n",
      " The initialised Neural Network:\n",
      "\n",
      "\n",
      " Layer[1] Node[1]:\n",
      " {'weights': [0.4560342718892494, 0.4478274870593494, -0.4434486322731913]}\n",
      "\n",
      " Layer[1] Node[2]:\n",
      " {'weights': [-0.41512800484107837, 0.33549887812944956, 0.2359699890685233]}\n",
      "\n",
      " Layer[2] Node[1]:\n",
      " {'weights': [0.1697304014402209, -0.1918635424108558, 0.10594416567846243]}\n",
      "\n",
      " Layer[2] Node[2]:\n",
      " {'weights': [0.10680173364083789, 0.08120401711200309, -0.3416171297451944]}\n"
     ]
    }
   ],
   "source": [
    "network = initialize_network(n_inputs, 2, n_outputs)"
   ]
  },
  {
   "cell_type": "markdown",
   "id": "53b695a9",
   "metadata": {
    "papermill": {
     "duration": 0.00657,
     "end_time": "2024-11-25T15:06:35.036452",
     "exception": false,
     "start_time": "2024-11-25T15:06:35.029882",
     "status": "completed"
    },
    "tags": []
   },
   "source": [
    "# Training the Network"
   ]
  },
  {
   "cell_type": "code",
   "execution_count": 12,
   "id": "7e387e1d",
   "metadata": {
    "execution": {
     "iopub.execute_input": "2024-11-25T15:06:35.053382Z",
     "iopub.status.busy": "2024-11-25T15:06:35.052378Z",
     "iopub.status.idle": "2024-11-25T15:06:35.063660Z",
     "shell.execute_reply": "2024-11-25T15:06:35.062335Z"
    },
    "papermill": {
     "duration": 0.022197,
     "end_time": "2024-11-25T15:06:35.066227",
     "exception": false,
     "start_time": "2024-11-25T15:06:35.044030",
     "status": "completed"
    },
    "tags": []
   },
   "outputs": [
    {
     "name": "stdout",
     "output_type": "stream",
     "text": [
      "\n",
      " Network Training Begins:\n",
      "\n",
      ">epoch=0, lrate=0.500, error=5.278\n",
      ">epoch=1, lrate=0.500, error=5.122\n",
      ">epoch=2, lrate=0.500, error=5.006\n",
      ">epoch=3, lrate=0.500, error=4.875\n",
      ">epoch=4, lrate=0.500, error=4.700\n",
      ">epoch=5, lrate=0.500, error=4.466\n",
      ">epoch=6, lrate=0.500, error=4.176\n",
      ">epoch=7, lrate=0.500, error=3.838\n",
      ">epoch=8, lrate=0.500, error=3.469\n",
      ">epoch=9, lrate=0.500, error=3.089\n",
      ">epoch=10, lrate=0.500, error=2.716\n",
      ">epoch=11, lrate=0.500, error=2.367\n",
      ">epoch=12, lrate=0.500, error=2.054\n",
      ">epoch=13, lrate=0.500, error=1.780\n",
      ">epoch=14, lrate=0.500, error=1.546\n",
      ">epoch=15, lrate=0.500, error=1.349\n",
      ">epoch=16, lrate=0.500, error=1.184\n",
      ">epoch=17, lrate=0.500, error=1.045\n",
      ">epoch=18, lrate=0.500, error=0.929\n",
      ">epoch=19, lrate=0.500, error=0.831\n",
      "\n",
      " Network Training Ends:\n",
      "\n",
      "\n",
      " Final Neural Network :\n",
      "\n",
      " Layer[1] Node[1]:\n",
      " {'weights': [0.8642508164347664, -0.8497601716670761, -0.8668929014392035], 'output': 0.9295587965836384, 'delta': 0.005645382825629247}\n",
      "\n",
      " Layer[1] Node[2]:\n",
      " {'weights': [-1.2934302410111027, 1.7109363237151511, 0.7125327507327331], 'output': 0.04760703296164143, 'delta': -0.005928559978815065}\n",
      "\n",
      " Layer[2] Node[1]:\n",
      " {'weights': [-1.3098359335096292, 2.16462207144596, -0.3079052288835877], 'output': 0.1989556395205846, 'delta': -0.03170801648036036}\n",
      "\n",
      " Layer[2] Node[2]:\n",
      " {'weights': [1.5506793402414165, -2.11315950446121, 0.1333585709422027], 'output': 0.8095042653312078, 'delta': 0.029375796661413225}\n"
     ]
    }
   ],
   "source": [
    "train_network(network, dataset, 0.5, 20, n_outputs)\n",
    "\n",
    "\n",
    "print(\"\\n Final Neural Network :\")\n",
    "    \n",
    "i= 1\n",
    "for layer in network:\n",
    "    j=1\n",
    "    for sub in layer:\n",
    "        print(\"\\n Layer[%d] Node[%d]:\\n\" %(i,j),sub)\n",
    "        j=j+1\n",
    "    i=i+1"
   ]
  },
  {
   "cell_type": "markdown",
   "id": "66af843c",
   "metadata": {
    "papermill": {
     "duration": 0.007137,
     "end_time": "2024-11-25T15:06:35.080498",
     "exception": false,
     "start_time": "2024-11-25T15:06:35.073361",
     "status": "completed"
    },
    "tags": []
   },
   "source": [
    "# Predict"
   ]
  },
  {
   "cell_type": "code",
   "execution_count": 13,
   "id": "84671179",
   "metadata": {
    "execution": {
     "iopub.execute_input": "2024-11-25T15:06:35.096884Z",
     "iopub.status.busy": "2024-11-25T15:06:35.095951Z",
     "iopub.status.idle": "2024-11-25T15:06:35.101852Z",
     "shell.execute_reply": "2024-11-25T15:06:35.100365Z"
    },
    "papermill": {
     "duration": 0.017099,
     "end_time": "2024-11-25T15:06:35.104464",
     "exception": false,
     "start_time": "2024-11-25T15:06:35.087365",
     "status": "completed"
    },
    "tags": []
   },
   "outputs": [],
   "source": [
    "from math import exp"
   ]
  },
  {
   "cell_type": "code",
   "execution_count": 14,
   "id": "56a1d562",
   "metadata": {
    "execution": {
     "iopub.execute_input": "2024-11-25T15:06:35.120718Z",
     "iopub.status.busy": "2024-11-25T15:06:35.120144Z",
     "iopub.status.idle": "2024-11-25T15:06:35.126810Z",
     "shell.execute_reply": "2024-11-25T15:06:35.125368Z"
    },
    "papermill": {
     "duration": 0.017905,
     "end_time": "2024-11-25T15:06:35.129497",
     "exception": false,
     "start_time": "2024-11-25T15:06:35.111592",
     "status": "completed"
    },
    "tags": []
   },
   "outputs": [],
   "source": [
    "def activate(weights, inputs):\n",
    "    activation = weights[-1]\n",
    "    for i in range(len(weights)-1):\n",
    "        activation += weights[i] * inputs[i]\n",
    "    return activation"
   ]
  },
  {
   "cell_type": "markdown",
   "id": "f844bded",
   "metadata": {
    "papermill": {
     "duration": 0.006972,
     "end_time": "2024-11-25T15:06:35.144209",
     "exception": false,
     "start_time": "2024-11-25T15:06:35.137237",
     "status": "completed"
    },
    "tags": []
   },
   "source": [
    "# Transfer Neuron Activation"
   ]
  },
  {
   "cell_type": "code",
   "execution_count": 15,
   "id": "675bea85",
   "metadata": {
    "execution": {
     "iopub.execute_input": "2024-11-25T15:06:35.161098Z",
     "iopub.status.busy": "2024-11-25T15:06:35.159821Z",
     "iopub.status.idle": "2024-11-25T15:06:35.166490Z",
     "shell.execute_reply": "2024-11-25T15:06:35.165173Z"
    },
    "papermill": {
     "duration": 0.017948,
     "end_time": "2024-11-25T15:06:35.169109",
     "exception": false,
     "start_time": "2024-11-25T15:06:35.151161",
     "status": "completed"
    },
    "tags": []
   },
   "outputs": [],
   "source": [
    "def transfer(activation):\n",
    "    return 1.0 / (1.0 + exp(-activation))"
   ]
  },
  {
   "cell_type": "markdown",
   "id": "b8d05dbc",
   "metadata": {
    "papermill": {
     "duration": 0.006772,
     "end_time": "2024-11-25T15:06:35.182984",
     "exception": false,
     "start_time": "2024-11-25T15:06:35.176212",
     "status": "completed"
    },
    "tags": []
   },
   "source": [
    "# Forward propagate input to a network output"
   ]
  },
  {
   "cell_type": "code",
   "execution_count": 16,
   "id": "a6a1d756",
   "metadata": {
    "execution": {
     "iopub.execute_input": "2024-11-25T15:06:35.200317Z",
     "iopub.status.busy": "2024-11-25T15:06:35.199762Z",
     "iopub.status.idle": "2024-11-25T15:06:35.207050Z",
     "shell.execute_reply": "2024-11-25T15:06:35.205641Z"
    },
    "papermill": {
     "duration": 0.019925,
     "end_time": "2024-11-25T15:06:35.209853",
     "exception": false,
     "start_time": "2024-11-25T15:06:35.189928",
     "status": "completed"
    },
    "tags": []
   },
   "outputs": [],
   "source": [
    "def forward_propagate(network, row):\n",
    "    inputs = row\n",
    "    for layer in network:\n",
    "        new_inputs = []\n",
    "        for neuron in layer:\n",
    "            activation = activate(neuron['weights'], inputs)\n",
    "            neuron['output'] = transfer(activation)\n",
    "            new_inputs.append(neuron['output'])\n",
    "        inputs = new_inputs\n",
    "    return inputs"
   ]
  },
  {
   "cell_type": "markdown",
   "id": "4146f22d",
   "metadata": {
    "papermill": {
     "duration": 0.007489,
     "end_time": "2024-11-25T15:06:35.224597",
     "exception": false,
     "start_time": "2024-11-25T15:06:35.217108",
     "status": "completed"
    },
    "tags": []
   },
   "source": [
    "# Make a Prediction with a Networkk"
   ]
  },
  {
   "cell_type": "code",
   "execution_count": 17,
   "id": "d0e33a06",
   "metadata": {
    "execution": {
     "iopub.execute_input": "2024-11-25T15:06:35.241846Z",
     "iopub.status.busy": "2024-11-25T15:06:35.241278Z",
     "iopub.status.idle": "2024-11-25T15:06:35.247755Z",
     "shell.execute_reply": "2024-11-25T15:06:35.246379Z"
    },
    "papermill": {
     "duration": 0.018774,
     "end_time": "2024-11-25T15:06:35.250447",
     "exception": false,
     "start_time": "2024-11-25T15:06:35.231673",
     "status": "completed"
    },
    "tags": []
   },
   "outputs": [],
   "source": [
    "def predict(network, row):\n",
    "    outputs = forward_propagate(network, row)\n",
    "    return outputs.index(max(outputs))"
   ]
  },
  {
   "cell_type": "markdown",
   "id": "e3448acd",
   "metadata": {
    "papermill": {
     "duration": 0.007418,
     "end_time": "2024-11-25T15:06:35.265206",
     "exception": false,
     "start_time": "2024-11-25T15:06:35.257788",
     "status": "completed"
    },
    "tags": []
   },
   "source": [
    "# Test making predictions with the network"
   ]
  },
  {
   "cell_type": "code",
   "execution_count": 18,
   "id": "45f8c5e9",
   "metadata": {
    "execution": {
     "iopub.execute_input": "2024-11-25T15:06:35.282092Z",
     "iopub.status.busy": "2024-11-25T15:06:35.281476Z",
     "iopub.status.idle": "2024-11-25T15:06:35.289441Z",
     "shell.execute_reply": "2024-11-25T15:06:35.287868Z"
    },
    "papermill": {
     "duration": 0.019763,
     "end_time": "2024-11-25T15:06:35.292253",
     "exception": false,
     "start_time": "2024-11-25T15:06:35.272490",
     "status": "completed"
    },
    "tags": []
   },
   "outputs": [],
   "source": [
    "dataset = [[2.7810836,2.550537003,0],\n",
    "    [1.465489372,2.362125076,0],\n",
    "    [3.396561688,4.400293529,0],\n",
    "    [1.38807019,1.850220317,0],\n",
    "    [3.06407232,3.005305973,0],\n",
    "    [7.627531214,2.759262235,1],\n",
    "    [5.332441248,2.088626775,1],\n",
    "    [6.922596716,1.77106367,1],\n",
    "    [8.675418651,-0.242068655,1],\n",
    "    [7.673756466,3.508563011,1]]"
   ]
  },
  {
   "cell_type": "code",
   "execution_count": 19,
   "id": "d94ee5d6",
   "metadata": {
    "execution": {
     "iopub.execute_input": "2024-11-25T15:06:35.309445Z",
     "iopub.status.busy": "2024-11-25T15:06:35.308932Z",
     "iopub.status.idle": "2024-11-25T15:06:35.316843Z",
     "shell.execute_reply": "2024-11-25T15:06:35.315478Z"
    },
    "papermill": {
     "duration": 0.020408,
     "end_time": "2024-11-25T15:06:35.319913",
     "exception": false,
     "start_time": "2024-11-25T15:06:35.299505",
     "status": "completed"
    },
    "tags": []
   },
   "outputs": [
    {
     "name": "stdout",
     "output_type": "stream",
     "text": [
      "Expected=0, Got=0\n",
      "Expected=0, Got=0\n",
      "Expected=0, Got=0\n",
      "Expected=0, Got=0\n",
      "Expected=0, Got=0\n",
      "Expected=1, Got=1\n",
      "Expected=1, Got=1\n",
      "Expected=1, Got=1\n",
      "Expected=1, Got=1\n",
      "Expected=1, Got=1\n"
     ]
    }
   ],
   "source": [
    "for row in dataset:\n",
    "    prediction = predict(network, row)\n",
    "    print('Expected=%d, Got=%d' % (row[-1], prediction))"
   ]
  }
 ],
 "metadata": {
  "kaggle": {
   "accelerator": "none",
   "dataSources": [],
   "dockerImageVersionId": 30786,
   "isGpuEnabled": false,
   "isInternetEnabled": true,
   "language": "python",
   "sourceType": "notebook"
  },
  "kernelspec": {
   "display_name": "Python 3",
   "language": "python",
   "name": "python3"
  },
  "language_info": {
   "codemirror_mode": {
    "name": "ipython",
    "version": 3
   },
   "file_extension": ".py",
   "mimetype": "text/x-python",
   "name": "python",
   "nbconvert_exporter": "python",
   "pygments_lexer": "ipython3",
   "version": "3.10.14"
  },
  "papermill": {
   "default_parameters": {},
   "duration": 4.579678,
   "end_time": "2024-11-25T15:06:35.952408",
   "environment_variables": {},
   "exception": null,
   "input_path": "__notebook__.ipynb",
   "output_path": "__notebook__.ipynb",
   "parameters": {},
   "start_time": "2024-11-25T15:06:31.372730",
   "version": "2.6.0"
  }
 },
 "nbformat": 4,
 "nbformat_minor": 5
}
