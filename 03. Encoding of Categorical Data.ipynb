{
 "cells": [
  {
   "cell_type": "markdown",
   "id": "37128dfa",
   "metadata": {
    "papermill": {
     "duration": 0.003419,
     "end_time": "2024-11-25T14:20:23.753377",
     "exception": false,
     "start_time": "2024-11-25T14:20:23.749958",
     "status": "completed"
    },
    "tags": []
   },
   "source": [
    "**For a given set of training data examples stored in a .CSV file, implement and demonstrate the conversion of categorical data to numeric of Tips.csv file using python libraries.**\n",
    "\n",
    "**Dataset: https://www.kaggle.com/datasets/hnazari8665/tipscsv** "
   ]
  },
  {
   "cell_type": "code",
   "execution_count": 1,
   "id": "d65d6236",
   "metadata": {
    "execution": {
     "iopub.execute_input": "2024-11-25T14:20:23.761100Z",
     "iopub.status.busy": "2024-11-25T14:20:23.760581Z",
     "iopub.status.idle": "2024-11-25T14:20:26.200326Z",
     "shell.execute_reply": "2024-11-25T14:20:26.198944Z"
    },
    "papermill": {
     "duration": 2.44664,
     "end_time": "2024-11-25T14:20:26.202962",
     "exception": false,
     "start_time": "2024-11-25T14:20:23.756322",
     "status": "completed"
    },
    "tags": []
   },
   "outputs": [],
   "source": [
    "import pandas as pd\n",
    "import numpy as np\n",
    "from sklearn.preprocessing import LabelEncoder , OneHotEncoder\n"
   ]
  },
  {
   "cell_type": "code",
   "execution_count": 2,
   "id": "34b1cd15",
   "metadata": {
    "execution": {
     "iopub.execute_input": "2024-11-25T14:20:26.211225Z",
     "iopub.status.busy": "2024-11-25T14:20:26.210212Z",
     "iopub.status.idle": "2024-11-25T14:20:26.250912Z",
     "shell.execute_reply": "2024-11-25T14:20:26.249574Z"
    },
    "papermill": {
     "duration": 0.047378,
     "end_time": "2024-11-25T14:20:26.253323",
     "exception": false,
     "start_time": "2024-11-25T14:20:26.205945",
     "status": "completed"
    },
    "tags": []
   },
   "outputs": [
    {
     "name": "stdout",
     "output_type": "stream",
     "text": [
      "   total_bill   tip     sex smoker  day    time  size  price_per_person  \\\n",
      "0       16.99  1.01  Female     No  Sun  Dinner     2              8.49   \n",
      "1       10.34  1.66    Male     No  Sun  Dinner     3              3.45   \n",
      "2       21.01  3.50    Male     No  Sun  Dinner     3              7.00   \n",
      "3       23.68  3.31    Male     No  Sun  Dinner     2             11.84   \n",
      "4       24.59  3.61  Female     No  Sun  Dinner     4              6.15   \n",
      "\n",
      "           Payer Name         CC Number Payment ID  \n",
      "0  Christy Cunningham  3560325168603410    Sun2959  \n",
      "1      Douglas Tucker  4478071379779230    Sun4608  \n",
      "2      Travis Walters  6011812112971322    Sun4458  \n",
      "3    Nathaniel Harris  4676137647685994    Sun5260  \n",
      "4        Tonya Carter  4832732618637221    Sun2251  \n"
     ]
    }
   ],
   "source": [
    "# Load the dataset\n",
    "df = pd.read_csv('/kaggle/input/categorical-data/tips.csv')\n",
    "\n",
    "#Display the first few rows of the dataframe to understand ther structure\n",
    "print(df.head())"
   ]
  },
  {
   "cell_type": "markdown",
   "id": "16b10ae0",
   "metadata": {
    "papermill": {
     "duration": 0.002627,
     "end_time": "2024-11-25T14:20:26.259121",
     "exception": false,
     "start_time": "2024-11-25T14:20:26.256494",
     "status": "completed"
    },
    "tags": []
   },
   "source": [
    "# Identify Catagorical Columns\n",
    "\n",
    "**To proceed, you need to identify which columns are catagorical. Usually, catagorical data can be strings or objects in a dataframe**"
   ]
  },
  {
   "cell_type": "code",
   "execution_count": 3,
   "id": "71d67869",
   "metadata": {
    "execution": {
     "iopub.execute_input": "2024-11-25T14:20:26.266959Z",
     "iopub.status.busy": "2024-11-25T14:20:26.266568Z",
     "iopub.status.idle": "2024-11-25T14:20:26.273568Z",
     "shell.execute_reply": "2024-11-25T14:20:26.272435Z"
    },
    "papermill": {
     "duration": 0.013739,
     "end_time": "2024-11-25T14:20:26.276023",
     "exception": false,
     "start_time": "2024-11-25T14:20:26.262284",
     "status": "completed"
    },
    "tags": []
   },
   "outputs": [
    {
     "name": "stdout",
     "output_type": "stream",
     "text": [
      "total_bill          float64\n",
      "tip                 float64\n",
      "sex                  object\n",
      "smoker               object\n",
      "day                  object\n",
      "time                 object\n",
      "size                  int64\n",
      "price_per_person    float64\n",
      "Payer Name           object\n",
      "CC Number             int64\n",
      "Payment ID           object\n",
      "dtype: object\n"
     ]
    }
   ],
   "source": [
    "# Display column types to find which ones are catagorical\n",
    "print(df.dtypes)\n",
    "\n",
    "# Alternatively, you can manually list the columns\n",
    "catagorical_columns = ['sex', 'smoker', 'day', 'time'] #Example of tips dataset"
   ]
  },
  {
   "cell_type": "markdown",
   "id": "b367bac2",
   "metadata": {
    "papermill": {
     "duration": 0.002578,
     "end_time": "2024-11-25T14:20:26.281622",
     "exception": false,
     "start_time": "2024-11-25T14:20:26.279044",
     "status": "completed"
    },
    "tags": []
   },
   "source": [
    "# Convert Catagorical Data to Numeric"
   ]
  },
  {
   "cell_type": "markdown",
   "id": "5e99f738",
   "metadata": {
    "papermill": {
     "duration": 0.002546,
     "end_time": "2024-11-25T14:20:26.286950",
     "exception": false,
     "start_time": "2024-11-25T14:20:26.284404",
     "status": "completed"
    },
    "tags": []
   },
   "source": [
    "**There are two common methods for converting data to numeric:**\n",
    "\n",
    "**Label Encoding: Converts categories into integers (useful for ordinary categories). One Hot Encoding: Converts "
   ]
  },
  {
   "cell_type": "markdown",
   "id": "46ad0f62",
   "metadata": {
    "papermill": {
     "duration": 0.002475,
     "end_time": "2024-11-25T14:20:26.292218",
     "exception": false,
     "start_time": "2024-11-25T14:20:26.289743",
     "status": "completed"
    },
    "tags": []
   },
   "source": [
    "# Label Encoding for Ordinal Catagories\n",
    "\n",
    "**Label Encoding is useful when the categoeical values have a natural order(for example, low, medium, high)**"
   ]
  },
  {
   "cell_type": "code",
   "execution_count": 4,
   "id": "2b6eb5de",
   "metadata": {
    "execution": {
     "iopub.execute_input": "2024-11-25T14:20:26.299507Z",
     "iopub.status.busy": "2024-11-25T14:20:26.299120Z",
     "iopub.status.idle": "2024-11-25T14:20:26.313909Z",
     "shell.execute_reply": "2024-11-25T14:20:26.312705Z"
    },
    "papermill": {
     "duration": 0.02165,
     "end_time": "2024-11-25T14:20:26.316759",
     "exception": false,
     "start_time": "2024-11-25T14:20:26.295109",
     "status": "completed"
    },
    "tags": []
   },
   "outputs": [
    {
     "name": "stdout",
     "output_type": "stream",
     "text": [
      "   total_bill   tip  sex  smoker  day  time  size  price_per_person  \\\n",
      "0       16.99  1.01    0       0    2     0     2              8.49   \n",
      "1       10.34  1.66    1       0    2     0     3              3.45   \n",
      "2       21.01  3.50    1       0    2     0     3              7.00   \n",
      "3       23.68  3.31    1       0    2     0     2             11.84   \n",
      "4       24.59  3.61    0       0    2     0     4              6.15   \n",
      "\n",
      "           Payer Name         CC Number Payment ID  \n",
      "0  Christy Cunningham  3560325168603410    Sun2959  \n",
      "1      Douglas Tucker  4478071379779230    Sun4608  \n",
      "2      Travis Walters  6011812112971322    Sun4458  \n",
      "3    Nathaniel Harris  4676137647685994    Sun5260  \n",
      "4        Tonya Carter  4832732618637221    Sun2251  \n"
     ]
    }
   ],
   "source": [
    "# Apply Label Encoding\n",
    "label_encoder = LabelEncoder()\n",
    "\n",
    "df['sex'] = label_encoder.fit_transform(df['sex'])\n",
    "df['smoker'] = label_encoder.fit_transform(df['smoker'])\n",
    "df['day'] = label_encoder.fit_transform(df['day'])\n",
    "df['time'] = label_encoder.fit_transform(df['time'])\n",
    "\n",
    "# Display the transformed dataframe\n",
    "print(df.head())\n"
   ]
  },
  {
   "cell_type": "markdown",
   "id": "e89df03e",
   "metadata": {
    "papermill": {
     "duration": 0.002785,
     "end_time": "2024-11-25T14:20:26.322705",
     "exception": false,
     "start_time": "2024-11-25T14:20:26.319920",
     "status": "completed"
    },
    "tags": []
   },
   "source": [
    "# One-Hot Encoding for Nominal Categories\n",
    "\n",
    "**One-Hot Encoding is useful when the cateforical values don't have any natural order (for example, 'male', 'female').**"
   ]
  },
  {
   "cell_type": "code",
   "execution_count": 5,
   "id": "8e254331",
   "metadata": {
    "execution": {
     "iopub.execute_input": "2024-11-25T14:20:26.330873Z",
     "iopub.status.busy": "2024-11-25T14:20:26.330486Z",
     "iopub.status.idle": "2024-11-25T14:20:26.358008Z",
     "shell.execute_reply": "2024-11-25T14:20:26.356436Z"
    },
    "papermill": {
     "duration": 0.034663,
     "end_time": "2024-11-25T14:20:26.360719",
     "exception": false,
     "start_time": "2024-11-25T14:20:26.326056",
     "status": "completed"
    },
    "tags": []
   },
   "outputs": [
    {
     "name": "stdout",
     "output_type": "stream",
     "text": [
      "   total_bill   tip  size  price_per_person          Payer Name  \\\n",
      "0       16.99  1.01     2              8.49  Christy Cunningham   \n",
      "1       10.34  1.66     3              3.45      Douglas Tucker   \n",
      "2       21.01  3.50     3              7.00      Travis Walters   \n",
      "3       23.68  3.31     2             11.84    Nathaniel Harris   \n",
      "4       24.59  3.61     4              6.15        Tonya Carter   \n",
      "\n",
      "          CC Number Payment ID  sex_1  smoker_1  day_1  day_2  day_3  time_1  \n",
      "0  3560325168603410    Sun2959  False     False  False   True  False   False  \n",
      "1  4478071379779230    Sun4608   True     False  False   True  False   False  \n",
      "2  6011812112971322    Sun4458   True     False  False   True  False   False  \n",
      "3  4676137647685994    Sun5260   True     False  False   True  False   False  \n",
      "4  4832732618637221    Sun2251  False     False  False   True  False   False  \n"
     ]
    }
   ],
   "source": [
    "# Apply One-Hot Encoding\n",
    "df_encoded  = pd.get_dummies(df,columns=['sex', 'smoker', 'day', 'time'], drop_first=True)\n",
    "\n",
    "#display the transformed dataframe\n",
    "print(df_encoded.head())"
   ]
  }
 ],
 "metadata": {
  "kaggle": {
   "accelerator": "none",
   "dataSources": [
    {
     "datasetId": 5683715,
     "sourceId": 9371441,
     "sourceType": "datasetVersion"
    }
   ],
   "dockerImageVersionId": 30761,
   "isGpuEnabled": false,
   "isInternetEnabled": true,
   "language": "python",
   "sourceType": "notebook"
  },
  "kernelspec": {
   "display_name": "Python 3",
   "language": "python",
   "name": "python3"
  },
  "language_info": {
   "codemirror_mode": {
    "name": "ipython",
    "version": 3
   },
   "file_extension": ".py",
   "mimetype": "text/x-python",
   "name": "python",
   "nbconvert_exporter": "python",
   "pygments_lexer": "ipython3",
   "version": "3.10.14"
  },
  "papermill": {
   "default_parameters": {},
   "duration": 6.176277,
   "end_time": "2024-11-25T14:20:26.986799",
   "environment_variables": {},
   "exception": null,
   "input_path": "__notebook__.ipynb",
   "output_path": "__notebook__.ipynb",
   "parameters": {},
   "start_time": "2024-11-25T14:20:20.810522",
   "version": "2.6.0"
  }
 },
 "nbformat": 4,
 "nbformat_minor": 5
}
