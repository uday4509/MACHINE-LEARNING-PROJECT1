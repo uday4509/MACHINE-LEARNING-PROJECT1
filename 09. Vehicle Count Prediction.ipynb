{
 "cells": [
  {
   "cell_type": "markdown",
   "id": "3e730256",
   "metadata": {
    "papermill": {
     "duration": 0.003429,
     "end_time": "2024-11-25T15:02:46.190300",
     "exception": false,
     "start_time": "2024-11-25T15:02:46.186871",
     "status": "completed"
    },
    "tags": []
   },
   "source": [
    "# Vehicle Count Prediction"
   ]
  },
  {
   "cell_type": "markdown",
   "id": "0c02d3b1",
   "metadata": {
    "papermill": {
     "duration": 0.00256,
     "end_time": "2024-11-25T15:02:46.195890",
     "exception": false,
     "start_time": "2024-11-25T15:02:46.193330",
     "status": "completed"
    },
    "tags": []
   },
   "source": [
    "## Import Important Libraries"
   ]
  },
  {
   "cell_type": "code",
   "execution_count": 1,
   "id": "c9f55105",
   "metadata": {
    "execution": {
     "iopub.execute_input": "2024-11-25T15:02:46.203060Z",
     "iopub.status.busy": "2024-11-25T15:02:46.202665Z",
     "iopub.status.idle": "2024-11-25T15:02:48.884236Z",
     "shell.execute_reply": "2024-11-25T15:02:48.882970Z"
    },
    "papermill": {
     "duration": 2.688167,
     "end_time": "2024-11-25T15:02:48.886777",
     "exception": false,
     "start_time": "2024-11-25T15:02:46.198610",
     "status": "completed"
    },
    "tags": []
   },
   "outputs": [],
   "source": [
    "# importing the pandas module for\n",
    "# data frame\n",
    "import pandas as pd\n",
    "\n",
    "#importing Random forest\n",
    "from sklearn.ensemble import RandomForestRegressor"
   ]
  },
  {
   "cell_type": "markdown",
   "id": "6e75c147",
   "metadata": {
    "papermill": {
     "duration": 0.002912,
     "end_time": "2024-11-25T15:02:48.893140",
     "exception": false,
     "start_time": "2024-11-25T15:02:48.890228",
     "status": "completed"
    },
    "tags": []
   },
   "source": [
    "## load the data set into train variable"
   ]
  },
  {
   "cell_type": "code",
   "execution_count": 2,
   "id": "7fd8fbee",
   "metadata": {
    "execution": {
     "iopub.execute_input": "2024-11-25T15:02:48.901708Z",
     "iopub.status.busy": "2024-11-25T15:02:48.901191Z",
     "iopub.status.idle": "2024-11-25T15:02:48.957939Z",
     "shell.execute_reply": "2024-11-25T15:02:48.956695Z"
    },
    "papermill": {
     "duration": 0.063493,
     "end_time": "2024-11-25T15:02:48.960464",
     "exception": false,
     "start_time": "2024-11-25T15:02:48.896971",
     "status": "completed"
    },
    "tags": []
   },
   "outputs": [],
   "source": [
    "train = pd.read_csv('/kaggle/input/vehicles-data-cvv/vehicles.csv')"
   ]
  },
  {
   "cell_type": "markdown",
   "id": "8383e574",
   "metadata": {
    "papermill": {
     "duration": 0.002689,
     "end_time": "2024-11-25T15:02:48.966274",
     "exception": false,
     "start_time": "2024-11-25T15:02:48.963585",
     "status": "completed"
    },
    "tags": []
   },
   "source": [
    "## display top 5 values of data set"
   ]
  },
  {
   "cell_type": "code",
   "execution_count": 3,
   "id": "8444df9c",
   "metadata": {
    "execution": {
     "iopub.execute_input": "2024-11-25T15:02:48.974518Z",
     "iopub.status.busy": "2024-11-25T15:02:48.973365Z",
     "iopub.status.idle": "2024-11-25T15:02:48.993431Z",
     "shell.execute_reply": "2024-11-25T15:02:48.992201Z"
    },
    "papermill": {
     "duration": 0.026853,
     "end_time": "2024-11-25T15:02:48.995996",
     "exception": false,
     "start_time": "2024-11-25T15:02:48.969143",
     "status": "completed"
    },
    "tags": []
   },
   "outputs": [
    {
     "data": {
      "text/html": [
       "<div>\n",
       "<style scoped>\n",
       "    .dataframe tbody tr th:only-of-type {\n",
       "        vertical-align: middle;\n",
       "    }\n",
       "\n",
       "    .dataframe tbody tr th {\n",
       "        vertical-align: top;\n",
       "    }\n",
       "\n",
       "    .dataframe thead th {\n",
       "        text-align: right;\n",
       "    }\n",
       "</style>\n",
       "<table border=\"1\" class=\"dataframe\">\n",
       "  <thead>\n",
       "    <tr style=\"text-align: right;\">\n",
       "      <th></th>\n",
       "      <th>DateTime</th>\n",
       "      <th>Vehicles</th>\n",
       "    </tr>\n",
       "  </thead>\n",
       "  <tbody>\n",
       "    <tr>\n",
       "      <th>0</th>\n",
       "      <td>2015-11-01 00:00:00</td>\n",
       "      <td>15</td>\n",
       "    </tr>\n",
       "    <tr>\n",
       "      <th>1</th>\n",
       "      <td>2015-11-01 01:00:00</td>\n",
       "      <td>13</td>\n",
       "    </tr>\n",
       "    <tr>\n",
       "      <th>2</th>\n",
       "      <td>2015-11-01 02:00:00</td>\n",
       "      <td>10</td>\n",
       "    </tr>\n",
       "    <tr>\n",
       "      <th>3</th>\n",
       "      <td>2015-11-01 03:00:00</td>\n",
       "      <td>7</td>\n",
       "    </tr>\n",
       "    <tr>\n",
       "      <th>4</th>\n",
       "      <td>2015-11-01 04:00:00</td>\n",
       "      <td>9</td>\n",
       "    </tr>\n",
       "  </tbody>\n",
       "</table>\n",
       "</div>"
      ],
      "text/plain": [
       "              DateTime  Vehicles\n",
       "0  2015-11-01 00:00:00        15\n",
       "1  2015-11-01 01:00:00        13\n",
       "2  2015-11-01 02:00:00        10\n",
       "3  2015-11-01 03:00:00         7\n",
       "4  2015-11-01 04:00:00         9"
      ]
     },
     "execution_count": 3,
     "metadata": {},
     "output_type": "execute_result"
    }
   ],
   "source": [
    "train.head()"
   ]
  },
  {
   "cell_type": "markdown",
   "id": "4b4ee0dd",
   "metadata": {
    "papermill": {
     "duration": 0.002943,
     "end_time": "2024-11-25T15:02:49.002282",
     "exception": false,
     "start_time": "2024-11-25T15:02:48.999339",
     "status": "completed"
    },
    "tags": []
   },
   "source": [
    "## function to get all data from time stamp"
   ]
  },
  {
   "cell_type": "code",
   "execution_count": 4,
   "id": "57aa9043",
   "metadata": {
    "execution": {
     "iopub.execute_input": "2024-11-25T15:02:49.010997Z",
     "iopub.status.busy": "2024-11-25T15:02:49.010454Z",
     "iopub.status.idle": "2024-11-25T15:03:12.780508Z",
     "shell.execute_reply": "2024-11-25T15:03:12.779416Z"
    },
    "papermill": {
     "duration": 23.777617,
     "end_time": "2024-11-25T15:03:12.783032",
     "exception": false,
     "start_time": "2024-11-25T15:02:49.005415",
     "status": "completed"
    },
    "tags": []
   },
   "outputs": [],
   "source": [
    "# get date\n",
    "def get_dom(dt):\n",
    "\treturn dt.day\n",
    "\n",
    "# get week day\n",
    "def get_weekday(dt):\n",
    "\treturn dt.weekday()\n",
    "\n",
    "# get hour\n",
    "def get_hour(dt):\n",
    "\treturn dt.hour\n",
    "\n",
    "# get year\n",
    "def get_year(dt):\n",
    "\treturn dt.year\n",
    "\n",
    "# get month\n",
    "def get_month(dt):\n",
    "\treturn dt.month\n",
    "\n",
    "# get year day\n",
    "def get_dayofyear(dt):\n",
    "\treturn dt.dayofyear\n",
    "\n",
    "# get year week\n",
    "def get_weekofyear(dt):\n",
    "\treturn dt.weekofyear\n",
    "\n",
    "\n",
    "train['DateTime'] = train['DateTime'].map(pd.to_datetime)\n",
    "train['date'] = train['DateTime'].map(get_dom)\n",
    "train['weekday'] = train['DateTime'].map(get_weekday)\n",
    "train['hour'] = train['DateTime'].map(get_hour)\n",
    "train['month'] = train['DateTime'].map(get_month)\n",
    "train['year'] = train['DateTime'].map(get_year)\n",
    "train['dayofyear'] = train['DateTime'].map(get_dayofyear)\n",
    "train['weekofyear'] = train['DateTime'].map(get_weekofyear)"
   ]
  },
  {
   "cell_type": "code",
   "execution_count": 5,
   "id": "b40cc583",
   "metadata": {
    "execution": {
     "iopub.execute_input": "2024-11-25T15:03:12.791028Z",
     "iopub.status.busy": "2024-11-25T15:03:12.790672Z",
     "iopub.status.idle": "2024-11-25T15:03:12.804866Z",
     "shell.execute_reply": "2024-11-25T15:03:12.803859Z"
    },
    "papermill": {
     "duration": 0.020382,
     "end_time": "2024-11-25T15:03:12.806814",
     "exception": false,
     "start_time": "2024-11-25T15:03:12.786432",
     "status": "completed"
    },
    "tags": []
   },
   "outputs": [
    {
     "data": {
      "text/html": [
       "<div>\n",
       "<style scoped>\n",
       "    .dataframe tbody tr th:only-of-type {\n",
       "        vertical-align: middle;\n",
       "    }\n",
       "\n",
       "    .dataframe tbody tr th {\n",
       "        vertical-align: top;\n",
       "    }\n",
       "\n",
       "    .dataframe thead th {\n",
       "        text-align: right;\n",
       "    }\n",
       "</style>\n",
       "<table border=\"1\" class=\"dataframe\">\n",
       "  <thead>\n",
       "    <tr style=\"text-align: right;\">\n",
       "      <th></th>\n",
       "      <th>DateTime</th>\n",
       "      <th>Vehicles</th>\n",
       "      <th>date</th>\n",
       "      <th>weekday</th>\n",
       "      <th>hour</th>\n",
       "      <th>month</th>\n",
       "      <th>year</th>\n",
       "      <th>dayofyear</th>\n",
       "      <th>weekofyear</th>\n",
       "    </tr>\n",
       "  </thead>\n",
       "  <tbody>\n",
       "    <tr>\n",
       "      <th>0</th>\n",
       "      <td>2015-11-01 00:00:00</td>\n",
       "      <td>15</td>\n",
       "      <td>1</td>\n",
       "      <td>6</td>\n",
       "      <td>0</td>\n",
       "      <td>11</td>\n",
       "      <td>2015</td>\n",
       "      <td>305</td>\n",
       "      <td>44</td>\n",
       "    </tr>\n",
       "    <tr>\n",
       "      <th>1</th>\n",
       "      <td>2015-11-01 01:00:00</td>\n",
       "      <td>13</td>\n",
       "      <td>1</td>\n",
       "      <td>6</td>\n",
       "      <td>1</td>\n",
       "      <td>11</td>\n",
       "      <td>2015</td>\n",
       "      <td>305</td>\n",
       "      <td>44</td>\n",
       "    </tr>\n",
       "    <tr>\n",
       "      <th>2</th>\n",
       "      <td>2015-11-01 02:00:00</td>\n",
       "      <td>10</td>\n",
       "      <td>1</td>\n",
       "      <td>6</td>\n",
       "      <td>2</td>\n",
       "      <td>11</td>\n",
       "      <td>2015</td>\n",
       "      <td>305</td>\n",
       "      <td>44</td>\n",
       "    </tr>\n",
       "    <tr>\n",
       "      <th>3</th>\n",
       "      <td>2015-11-01 03:00:00</td>\n",
       "      <td>7</td>\n",
       "      <td>1</td>\n",
       "      <td>6</td>\n",
       "      <td>3</td>\n",
       "      <td>11</td>\n",
       "      <td>2015</td>\n",
       "      <td>305</td>\n",
       "      <td>44</td>\n",
       "    </tr>\n",
       "    <tr>\n",
       "      <th>4</th>\n",
       "      <td>2015-11-01 04:00:00</td>\n",
       "      <td>9</td>\n",
       "      <td>1</td>\n",
       "      <td>6</td>\n",
       "      <td>4</td>\n",
       "      <td>11</td>\n",
       "      <td>2015</td>\n",
       "      <td>305</td>\n",
       "      <td>44</td>\n",
       "    </tr>\n",
       "  </tbody>\n",
       "</table>\n",
       "</div>"
      ],
      "text/plain": [
       "             DateTime  Vehicles  date  weekday  hour  month  year  dayofyear  \\\n",
       "0 2015-11-01 00:00:00        15     1        6     0     11  2015        305   \n",
       "1 2015-11-01 01:00:00        13     1        6     1     11  2015        305   \n",
       "2 2015-11-01 02:00:00        10     1        6     2     11  2015        305   \n",
       "3 2015-11-01 03:00:00         7     1        6     3     11  2015        305   \n",
       "4 2015-11-01 04:00:00         9     1        6     4     11  2015        305   \n",
       "\n",
       "   weekofyear  \n",
       "0          44  \n",
       "1          44  \n",
       "2          44  \n",
       "3          44  \n",
       "4          44  "
      ]
     },
     "execution_count": 5,
     "metadata": {},
     "output_type": "execute_result"
    }
   ],
   "source": [
    "# display\n",
    "train.head()"
   ]
  },
  {
   "cell_type": "code",
   "execution_count": 6,
   "id": "433ba24b",
   "metadata": {
    "execution": {
     "iopub.execute_input": "2024-11-25T15:03:12.814702Z",
     "iopub.status.busy": "2024-11-25T15:03:12.814331Z",
     "iopub.status.idle": "2024-11-25T15:03:12.836376Z",
     "shell.execute_reply": "2024-11-25T15:03:12.835078Z"
    },
    "papermill": {
     "duration": 0.028121,
     "end_time": "2024-11-25T15:03:12.838294",
     "exception": false,
     "start_time": "2024-11-25T15:03:12.810173",
     "status": "completed"
    },
    "tags": []
   },
   "outputs": [
    {
     "name": "stdout",
     "output_type": "stream",
     "text": [
      "   date  weekday  hour  month  year  dayofyear  weekofyear\n",
      "0     1        6     0     11  2015        305          44\n",
      "1     1        6     1     11  2015        305          44\n",
      "2     1        6     2     11  2015        305          44\n",
      "3     1        6     3     11  2015        305          44\n",
      "4     1        6     4     11  2015        305          44\n"
     ]
    },
    {
     "data": {
      "text/plain": [
       "0    15\n",
       "1    13\n",
       "2    10\n",
       "3     7\n",
       "4     9\n",
       "Name: Vehicles, dtype: int64"
      ]
     },
     "execution_count": 6,
     "metadata": {},
     "output_type": "execute_result"
    }
   ],
   "source": [
    "# there is no use of DateTime module\n",
    "# so remove it\n",
    "train = train.drop(['DateTime'], axis=1)\n",
    "\n",
    "# separating class label for training the data\n",
    "train1 = train.drop(['Vehicles'], axis=1)\n",
    "\n",
    "# class label is stored in target\n",
    "target = train['Vehicles']\n",
    "\n",
    "print(train1.head())\n",
    "target.head()"
   ]
  },
  {
   "cell_type": "code",
   "execution_count": 7,
   "id": "64d1e26e",
   "metadata": {
    "execution": {
     "iopub.execute_input": "2024-11-25T15:03:12.847711Z",
     "iopub.status.busy": "2024-11-25T15:03:12.847293Z",
     "iopub.status.idle": "2024-11-25T15:03:23.006837Z",
     "shell.execute_reply": "2024-11-25T15:03:23.004832Z"
    },
    "papermill": {
     "duration": 10.167346,
     "end_time": "2024-11-25T15:03:23.009111",
     "exception": false,
     "start_time": "2024-11-25T15:03:12.841765",
     "status": "completed"
    },
    "tags": []
   },
   "outputs": [
    {
     "name": "stderr",
     "output_type": "stream",
     "text": [
      "/opt/conda/lib/python3.10/site-packages/sklearn/base.py:439: UserWarning: X does not have valid feature names, but RandomForestRegressor was fitted with feature names\n",
      "  warnings.warn(\n"
     ]
    },
    {
     "data": {
      "text/plain": [
       "array([9.23684524])"
      ]
     },
     "execution_count": 7,
     "metadata": {},
     "output_type": "execute_result"
    }
   ],
   "source": [
    "#defining the RandomForestRegressor\n",
    "m1=RandomForestRegressor()\n",
    "\n",
    "m1.fit(train1,target)\n",
    "#testing\n",
    "m1.predict([[11,6,0,1,2015,11,2]])"
   ]
  }
 ],
 "metadata": {
  "kaggle": {
   "accelerator": "none",
   "dataSources": [
    {
     "datasetId": 6120791,
     "sourceId": 9952558,
     "sourceType": "datasetVersion"
    }
   ],
   "dockerImageVersionId": 30786,
   "isGpuEnabled": false,
   "isInternetEnabled": true,
   "language": "python",
   "sourceType": "notebook"
  },
  "kernelspec": {
   "display_name": "Python 3",
   "language": "python",
   "name": "python3"
  },
  "language_info": {
   "codemirror_mode": {
    "name": "ipython",
    "version": 3
   },
   "file_extension": ".py",
   "mimetype": "text/x-python",
   "name": "python",
   "nbconvert_exporter": "python",
   "pygments_lexer": "ipython3",
   "version": "3.10.14"
  },
  "papermill": {
   "default_parameters": {},
   "duration": 40.249522,
   "end_time": "2024-11-25T15:03:23.635200",
   "environment_variables": {},
   "exception": null,
   "input_path": "__notebook__.ipynb",
   "output_path": "__notebook__.ipynb",
   "parameters": {},
   "start_time": "2024-11-25T15:02:43.385678",
   "version": "2.6.0"
  }
 },
 "nbformat": 4,
 "nbformat_minor": 5
}
